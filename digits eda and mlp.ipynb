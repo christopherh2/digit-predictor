{
 "cells": [
  {
   "cell_type": "code",
   "execution_count": 18,
   "id": "c1b020a9",
   "metadata": {},
   "outputs": [],
   "source": [
    "# import libraries\n",
    "import pandas as pd\n",
    "import numpy as np\n",
    "import tensorflow.keras as keras\n",
    "from keras.models import Sequential\n",
    "from keras.layers.core import Dense, Dropout"
   ]
  },
  {
   "cell_type": "code",
   "execution_count": 19,
   "id": "aca9a2ac",
   "metadata": {},
   "outputs": [],
   "source": [
    "# Load data\n",
    "train = pd.read_csv('train.csv')\n",
    "test = pd.read_csv('test.csv')"
   ]
  },
  {
   "cell_type": "code",
   "execution_count": 20,
   "id": "67890502",
   "metadata": {},
   "outputs": [
    {
     "data": {
      "text/html": [
       "<div>\n",
       "<style scoped>\n",
       "    .dataframe tbody tr th:only-of-type {\n",
       "        vertical-align: middle;\n",
       "    }\n",
       "\n",
       "    .dataframe tbody tr th {\n",
       "        vertical-align: top;\n",
       "    }\n",
       "\n",
       "    .dataframe thead th {\n",
       "        text-align: right;\n",
       "    }\n",
       "</style>\n",
       "<table border=\"1\" class=\"dataframe\">\n",
       "  <thead>\n",
       "    <tr style=\"text-align: right;\">\n",
       "      <th></th>\n",
       "      <th>label</th>\n",
       "      <th>pixel0</th>\n",
       "      <th>pixel1</th>\n",
       "      <th>pixel2</th>\n",
       "      <th>pixel3</th>\n",
       "      <th>pixel4</th>\n",
       "      <th>pixel5</th>\n",
       "      <th>pixel6</th>\n",
       "      <th>pixel7</th>\n",
       "      <th>pixel8</th>\n",
       "      <th>...</th>\n",
       "      <th>pixel774</th>\n",
       "      <th>pixel775</th>\n",
       "      <th>pixel776</th>\n",
       "      <th>pixel777</th>\n",
       "      <th>pixel778</th>\n",
       "      <th>pixel779</th>\n",
       "      <th>pixel780</th>\n",
       "      <th>pixel781</th>\n",
       "      <th>pixel782</th>\n",
       "      <th>pixel783</th>\n",
       "    </tr>\n",
       "  </thead>\n",
       "  <tbody>\n",
       "    <tr>\n",
       "      <th>0</th>\n",
       "      <td>1</td>\n",
       "      <td>0</td>\n",
       "      <td>0</td>\n",
       "      <td>0</td>\n",
       "      <td>0</td>\n",
       "      <td>0</td>\n",
       "      <td>0</td>\n",
       "      <td>0</td>\n",
       "      <td>0</td>\n",
       "      <td>0</td>\n",
       "      <td>...</td>\n",
       "      <td>0</td>\n",
       "      <td>0</td>\n",
       "      <td>0</td>\n",
       "      <td>0</td>\n",
       "      <td>0</td>\n",
       "      <td>0</td>\n",
       "      <td>0</td>\n",
       "      <td>0</td>\n",
       "      <td>0</td>\n",
       "      <td>0</td>\n",
       "    </tr>\n",
       "    <tr>\n",
       "      <th>1</th>\n",
       "      <td>0</td>\n",
       "      <td>0</td>\n",
       "      <td>0</td>\n",
       "      <td>0</td>\n",
       "      <td>0</td>\n",
       "      <td>0</td>\n",
       "      <td>0</td>\n",
       "      <td>0</td>\n",
       "      <td>0</td>\n",
       "      <td>0</td>\n",
       "      <td>...</td>\n",
       "      <td>0</td>\n",
       "      <td>0</td>\n",
       "      <td>0</td>\n",
       "      <td>0</td>\n",
       "      <td>0</td>\n",
       "      <td>0</td>\n",
       "      <td>0</td>\n",
       "      <td>0</td>\n",
       "      <td>0</td>\n",
       "      <td>0</td>\n",
       "    </tr>\n",
       "    <tr>\n",
       "      <th>2</th>\n",
       "      <td>1</td>\n",
       "      <td>0</td>\n",
       "      <td>0</td>\n",
       "      <td>0</td>\n",
       "      <td>0</td>\n",
       "      <td>0</td>\n",
       "      <td>0</td>\n",
       "      <td>0</td>\n",
       "      <td>0</td>\n",
       "      <td>0</td>\n",
       "      <td>...</td>\n",
       "      <td>0</td>\n",
       "      <td>0</td>\n",
       "      <td>0</td>\n",
       "      <td>0</td>\n",
       "      <td>0</td>\n",
       "      <td>0</td>\n",
       "      <td>0</td>\n",
       "      <td>0</td>\n",
       "      <td>0</td>\n",
       "      <td>0</td>\n",
       "    </tr>\n",
       "    <tr>\n",
       "      <th>3</th>\n",
       "      <td>4</td>\n",
       "      <td>0</td>\n",
       "      <td>0</td>\n",
       "      <td>0</td>\n",
       "      <td>0</td>\n",
       "      <td>0</td>\n",
       "      <td>0</td>\n",
       "      <td>0</td>\n",
       "      <td>0</td>\n",
       "      <td>0</td>\n",
       "      <td>...</td>\n",
       "      <td>0</td>\n",
       "      <td>0</td>\n",
       "      <td>0</td>\n",
       "      <td>0</td>\n",
       "      <td>0</td>\n",
       "      <td>0</td>\n",
       "      <td>0</td>\n",
       "      <td>0</td>\n",
       "      <td>0</td>\n",
       "      <td>0</td>\n",
       "    </tr>\n",
       "    <tr>\n",
       "      <th>4</th>\n",
       "      <td>0</td>\n",
       "      <td>0</td>\n",
       "      <td>0</td>\n",
       "      <td>0</td>\n",
       "      <td>0</td>\n",
       "      <td>0</td>\n",
       "      <td>0</td>\n",
       "      <td>0</td>\n",
       "      <td>0</td>\n",
       "      <td>0</td>\n",
       "      <td>...</td>\n",
       "      <td>0</td>\n",
       "      <td>0</td>\n",
       "      <td>0</td>\n",
       "      <td>0</td>\n",
       "      <td>0</td>\n",
       "      <td>0</td>\n",
       "      <td>0</td>\n",
       "      <td>0</td>\n",
       "      <td>0</td>\n",
       "      <td>0</td>\n",
       "    </tr>\n",
       "  </tbody>\n",
       "</table>\n",
       "<p>5 rows × 785 columns</p>\n",
       "</div>"
      ],
      "text/plain": [
       "   label  pixel0  pixel1  pixel2  pixel3  pixel4  pixel5  pixel6  pixel7  \\\n",
       "0      1       0       0       0       0       0       0       0       0   \n",
       "1      0       0       0       0       0       0       0       0       0   \n",
       "2      1       0       0       0       0       0       0       0       0   \n",
       "3      4       0       0       0       0       0       0       0       0   \n",
       "4      0       0       0       0       0       0       0       0       0   \n",
       "\n",
       "   pixel8  ...  pixel774  pixel775  pixel776  pixel777  pixel778  pixel779  \\\n",
       "0       0  ...         0         0         0         0         0         0   \n",
       "1       0  ...         0         0         0         0         0         0   \n",
       "2       0  ...         0         0         0         0         0         0   \n",
       "3       0  ...         0         0         0         0         0         0   \n",
       "4       0  ...         0         0         0         0         0         0   \n",
       "\n",
       "   pixel780  pixel781  pixel782  pixel783  \n",
       "0         0         0         0         0  \n",
       "1         0         0         0         0  \n",
       "2         0         0         0         0  \n",
       "3         0         0         0         0  \n",
       "4         0         0         0         0  \n",
       "\n",
       "[5 rows x 785 columns]"
      ]
     },
     "execution_count": 20,
     "metadata": {},
     "output_type": "execute_result"
    }
   ],
   "source": [
    "# Print first 5 rows\n",
    "train.head()"
   ]
  },
  {
   "cell_type": "markdown",
   "id": "c48c11a0",
   "metadata": {},
   "source": [
    "Data is in form label,pixels"
   ]
  },
  {
   "cell_type": "code",
   "execution_count": 21,
   "id": "2d667474",
   "metadata": {},
   "outputs": [
    {
     "data": {
      "text/plain": [
       "(0, 0)"
      ]
     },
     "execution_count": 21,
     "metadata": {},
     "output_type": "execute_result"
    }
   ],
   "source": [
    "# Check missing values\n",
    "train.isnull().sum().sum(), test.isnull().sum().sum()"
   ]
  },
  {
   "cell_type": "markdown",
   "id": "4f262a24",
   "metadata": {},
   "source": [
    "No missing data in both training and testing sets"
   ]
  },
  {
   "cell_type": "code",
   "execution_count": 22,
   "id": "c11638c8",
   "metadata": {},
   "outputs": [
    {
     "name": "stdout",
     "output_type": "stream",
     "text": [
      "training set shape: (42000, 784)\n",
      "training labels shape: (42000,)\n"
     ]
    }
   ],
   "source": [
    "# Seperate x and y values for training set\n",
    "# Cast the values inside of the data frame as approrpiate data type\n",
    "y = train.label.values.astype('int32')\n",
    "x = train.drop(columns=['label']).values.astype('float32')\n",
    "print('training set shape: {}'.format(x.shape))\n",
    "print('training labels shape: {}'.format(y.shape))"
   ]
  },
  {
   "cell_type": "code",
   "execution_count": 23,
   "id": "e68beeb9",
   "metadata": {},
   "outputs": [],
   "source": [
    "# Create a set of normalized data\n",
    "scale = np.max(x)\n",
    "x_norm = x/scale\n",
    "test_norm = test/scale"
   ]
  },
  {
   "cell_type": "code",
   "execution_count": 24,
   "id": "e8745f12",
   "metadata": {
    "scrolled": true
   },
   "outputs": [
    {
     "data": {
      "text/plain": [
       "Text(0.5, 0, 'Digit')"
      ]
     },
     "execution_count": 24,
     "metadata": {},
     "output_type": "execute_result"
    },
    {
     "data": {
      "image/png": "[encoded data removed]",
      "text/plain": [
       "<Figure size 432x288 with 1 Axes>"
      ]
     },
     "metadata": {
      "needs_background": "light"
     },
     "output_type": "display_data"
    }
   ],
   "source": [
    "# See the distribution of label types\n",
    "import seaborn as sns\n",
    "import matplotlib.pyplot as plt\n",
    "sns.countplot(x=y)\n",
    "plt.title('Distribution of Label Types')\n",
    "plt.xlabel('Digit')"
   ]
  },
  {
   "cell_type": "markdown",
   "id": "c50f3709",
   "metadata": {},
   "source": [
    "Relatively even distribution of digits with the training set having having about 4000 samples per digit"
   ]
  },
  {
   "cell_type": "code",
   "execution_count": 25,
   "id": "e061a32d",
   "metadata": {
    "scrolled": true
   },
   "outputs": [
    {
     "data": {
      "text/plain": [
       "<matplotlib.image.AxesImage at 0x1ec7ecfc850>"
      ]
     },
     "execution_count": 25,
     "metadata": {},
     "output_type": "execute_result"
    },
    {
     "data": {
      "image/png": "[encoded data removed]",
      "text/plain": [
       "<Figure size 432x288 with 1 Axes>"
      ]
     },
     "metadata": {
      "needs_background": "light"
     },
     "output_type": "display_data"
    }
   ],
   "source": [
    "# Print a random image \n",
    "import matplotlib.pyplot as plt\n",
    "# Reshape to a 2-d array with 1 colour channel\n",
    "image = x[8].reshape(28,28,1)\n",
    "plt.imshow(image, cmap='gray')"
   ]
  },
  {
   "cell_type": "markdown",
   "id": "8ab6c49e",
   "metadata": {},
   "source": [
    "Digits are in black and white. Some are recognizable and some are not so distinct."
   ]
  },
  {
   "cell_type": "code",
   "execution_count": 26,
   "id": "81dec828",
   "metadata": {},
   "outputs": [],
   "source": [
    "# Perform categorical encoding on the training labels\n",
    "num_categories = 10\n",
    "y = keras.utils.to_categorical(y, num_categories)"
   ]
  },
  {
   "cell_type": "code",
   "execution_count": 27,
   "id": "2d5ab673",
   "metadata": {},
   "outputs": [
    {
     "name": "stdout",
     "output_type": "stream",
     "text": [
      "(31500, 784) (31500, 10)\n",
      "(10500, 784) (10500, 10)\n"
     ]
    }
   ],
   "source": [
    "# Split the non-normalized data\n",
    "from sklearn.model_selection import train_test_split\n",
    "x_train, x_val, y_train, y_val = train_test_split(x,y,random_state=69)\n",
    "print(x_train.shape, y_train.shape)\n",
    "print(x_val.shape, y_val.shape)"
   ]
  },
  {
   "cell_type": "code",
   "execution_count": 28,
   "id": "6c15299c",
   "metadata": {},
   "outputs": [],
   "source": [
    "# Create a function to generate predictions in a csv file\n",
    "def get_preds(model, test_data, filepath):\n",
    "    '''\n",
    "    This function take a model, a set of test data, and a file name.\n",
    "    The model creates predictions based on the test data.\n",
    "    Then the predictions are placed into a csv file acceptable for submission.\n",
    "    '''\n",
    "    # Make prediction and take the max value of each row\n",
    "    preds = np.argmax(model.predict(test_data),axis=1) # set axis to 1 to analyze each row\n",
    "    submission = pd.DataFrame({'ImageId':list(range(1,len(test_data)+1)),'Label':preds})\n",
    "    submission.to_csv(filepath,index=False,header=True)"
   ]
  },
  {
   "cell_type": "code",
   "execution_count": 29,
   "id": "9c6183e6",
   "metadata": {},
   "outputs": [],
   "source": [
    "# Create a basic deep learning model\n",
    "def base_mlp():\n",
    "    # Initiate the model\n",
    "    base_model = Sequential()\n",
    "    # Add layers\n",
    "    base_model.add(Dense(512,activation='relu', input_shape=(784,))) # Input layer\n",
    "    base_model.add(Dense(512, activation= 'relu')) # Hidden layer\n",
    "    base_model.add(Dense(10, activation= 'sigmoid')) # 10 output nodes corresponding to 10 labels\n",
    "    # Return the model with all layers\n",
    "    return base_model"
   ]
  },
  {
   "cell_type": "code",
   "execution_count": 30,
   "id": "51ce8613",
   "metadata": {},
   "outputs": [
    {
     "name": "stdout",
     "output_type": "stream",
     "text": [
      "Model: \"sequential_1\"\n",
      "_________________________________________________________________\n",
      " Layer (type)                Output Shape              Param #   \n",
      "=================================================================\n",
      " dense_3 (Dense)             (None, 512)               401920    \n",
      "                                                                 \n",
      " dense_4 (Dense)             (None, 512)               262656    \n",
      "                                                                 \n",
      " dense_5 (Dense)             (None, 10)                5130      \n",
      "                                                                 \n",
      "=================================================================\n",
      "Total params: 669,706\n",
      "Trainable params: 669,706\n",
      "Non-trainable params: 0\n",
      "_________________________________________________________________\n"
     ]
    }
   ],
   "source": [
    "base_model = base_mlp()\n",
    "base_model.summary()"
   ]
  },
  {
   "cell_type": "code",
   "execution_count": 31,
   "id": "6bc2aaf6",
   "metadata": {},
   "outputs": [],
   "source": [
    "# Compile the model\n",
    "base_model.compile(loss='categorical_crossentropy', \n",
    "              optimizer='adam',\n",
    "              metrics=['accuracy'])"
   ]
  },
  {
   "cell_type": "code",
   "execution_count": 32,
   "id": "ff1e46eb",
   "metadata": {},
   "outputs": [
    {
     "name": "stdout",
     "output_type": "stream",
     "text": [
      "Epoch 1/10\n",
      "985/985 [==============================] - 5s 5ms/step - loss: 2.3732 - accuracy: 0.8838 - val_loss: 0.6469 - val_accuracy: 0.9107\n",
      "Epoch 2/10\n",
      "985/985 [==============================] - 4s 4ms/step - loss: 0.2979 - accuracy: 0.9399 - val_loss: 0.2581 - val_accuracy: 0.9410\n",
      "Epoch 3/10\n",
      "985/985 [==============================] - 4s 4ms/step - loss: 0.1959 - accuracy: 0.9547 - val_loss: 0.2814 - val_accuracy: 0.9444\n",
      "Epoch 4/10\n",
      "985/985 [==============================] - 4s 4ms/step - loss: 0.1955 - accuracy: 0.9528 - val_loss: 0.3334 - val_accuracy: 0.9241\n",
      "Epoch 5/10\n",
      "985/985 [==============================] - 4s 4ms/step - loss: 0.1712 - accuracy: 0.9573 - val_loss: 0.2629 - val_accuracy: 0.9474\n",
      "Epoch 6/10\n",
      "985/985 [==============================] - 4s 4ms/step - loss: 0.1683 - accuracy: 0.9597 - val_loss: 0.2535 - val_accuracy: 0.9510\n",
      "Epoch 7/10\n",
      "985/985 [==============================] - 4s 4ms/step - loss: 0.1546 - accuracy: 0.9623 - val_loss: 0.2293 - val_accuracy: 0.9455\n",
      "Epoch 8/10\n",
      "985/985 [==============================] - 4s 4ms/step - loss: 0.1491 - accuracy: 0.9647 - val_loss: 0.1775 - val_accuracy: 0.9581\n",
      "Epoch 9/10\n",
      "985/985 [==============================] - 4s 4ms/step - loss: 0.1337 - accuracy: 0.9672 - val_loss: 0.2433 - val_accuracy: 0.9510\n",
      "Epoch 10/10\n",
      "985/985 [==============================] - 4s 4ms/step - loss: 0.1192 - accuracy: 0.9712 - val_loss: 0.2738 - val_accuracy: 0.9499\n"
     ]
    }
   ],
   "source": [
    "# Fit the model\n",
    "base_hist = base_model.fit(\n",
    "    x_train, y_train, epochs=10, verbose=1, validation_data=(x_val, y_val))"
   ]
  },
  {
   "cell_type": "code",
   "execution_count": 33,
   "id": "713b9f66",
   "metadata": {},
   "outputs": [
    {
     "name": "stdout",
     "output_type": "stream",
     "text": [
      "Training Accuracy: 0.9660\n",
      "Training Accuracy: 0.9499\n"
     ]
    }
   ],
   "source": [
    "# Print the metrics    \n",
    "loss,accuracy = base_model.evaluate(x_train,y_train,verbose=False)\n",
    "print(\"Training Accuracy: {:.4f}\".format(accuracy))\n",
    "loss,accuracy = base_model.evaluate(x_val, y_val, verbose=False)\n",
    "print(\"Training Accuracy: {:.4f}\".format(accuracy))"
   ]
  },
  {
   "cell_type": "code",
   "execution_count": 34,
   "id": "6d7abe77",
   "metadata": {},
   "outputs": [],
   "source": [
    "# Clear session\n",
    "from keras.backend import clear_session\n",
    "clear_session()"
   ]
  },
  {
   "cell_type": "code",
   "execution_count": 35,
   "id": "fc160847",
   "metadata": {},
   "outputs": [],
   "source": [
    "# Create a model with dropout layers\n",
    "def drop_mlp():\n",
    "    drop_model = Sequential()\n",
    "    drop_model.add(Dense(512,activation='relu', input_shape=(784,))) # Input layer\n",
    "    drop_model.add(Dropout(0.15)) # Ignore a random 20% of neurons in each step\n",
    "    drop_model.add(Dense(512, activation= 'relu')) # Hidden layer\n",
    "    drop_model.add(Dropout(0.2))\n",
    "    drop_model.add(Dense(10, activation= 'sigmoid')) # 10 output nodes corresponding to 10 labels\n",
    "    return drop_model"
   ]
  },
  {
   "cell_type": "code",
   "execution_count": 36,
   "id": "bba01008",
   "metadata": {},
   "outputs": [
    {
     "name": "stdout",
     "output_type": "stream",
     "text": [
      "Model: \"sequential\"\n",
      "_________________________________________________________________\n",
      " Layer (type)                Output Shape              Param #   \n",
      "=================================================================\n",
      " dense (Dense)               (None, 512)               401920    \n",
      "                                                                 \n",
      " dropout (Dropout)           (None, 512)               0         \n",
      "                                                                 \n",
      " dense_1 (Dense)             (None, 512)               262656    \n",
      "                                                                 \n",
      " dropout_1 (Dropout)         (None, 512)               0         \n",
      "                                                                 \n",
      " dense_2 (Dense)             (None, 10)                5130      \n",
      "                                                                 \n",
      "=================================================================\n",
      "Total params: 669,706\n",
      "Trainable params: 669,706\n",
      "Non-trainable params: 0\n",
      "_________________________________________________________________\n"
     ]
    }
   ],
   "source": [
    "drop_model = drop_mlp()\n",
    "drop_model.summary()"
   ]
  },
  {
   "cell_type": "code",
   "execution_count": 37,
   "id": "cba5c601",
   "metadata": {},
   "outputs": [
    {
     "name": "stdout",
     "output_type": "stream",
     "text": [
      "Epoch 1/10\n",
      "985/985 [==============================] - 5s 5ms/step - loss: 3.1275 - accuracy: 0.8523 - val_loss: 0.3191 - val_accuracy: 0.9273\n",
      "Epoch 2/10\n",
      "985/985 [==============================] - 5s 5ms/step - loss: 0.4023 - accuracy: 0.9084 - val_loss: 0.1964 - val_accuracy: 0.9456\n",
      "Epoch 3/10\n",
      "985/985 [==============================] - 5s 5ms/step - loss: 0.2954 - accuracy: 0.9237 - val_loss: 0.2240 - val_accuracy: 0.9453\n",
      "Epoch 4/10\n",
      "985/985 [==============================] - 5s 5ms/step - loss: 0.2718 - accuracy: 0.9287 - val_loss: 0.2091 - val_accuracy: 0.9433\n",
      "Epoch 5/10\n",
      "985/985 [==============================] - 4s 5ms/step - loss: 0.2708 - accuracy: 0.9311 - val_loss: 0.1950 - val_accuracy: 0.9499\n",
      "Epoch 6/10\n",
      "985/985 [==============================] - 4s 5ms/step - loss: 0.2509 - accuracy: 0.9353 - val_loss: 0.1898 - val_accuracy: 0.9514\n",
      "Epoch 7/10\n",
      "985/985 [==============================] - 5s 5ms/step - loss: 0.2420 - accuracy: 0.9388 - val_loss: 0.2294 - val_accuracy: 0.9424\n",
      "Epoch 8/10\n",
      "985/985 [==============================] - 5s 5ms/step - loss: 0.2526 - accuracy: 0.9405 - val_loss: 0.1653 - val_accuracy: 0.9565\n",
      "Epoch 9/10\n",
      "985/985 [==============================] - 4s 5ms/step - loss: 0.2231 - accuracy: 0.9436 - val_loss: 0.2183 - val_accuracy: 0.9544\n",
      "Epoch 10/10\n",
      "985/985 [==============================] - 4s 5ms/step - loss: 0.2251 - accuracy: 0.9468 - val_loss: 0.1951 - val_accuracy: 0.9551\n"
     ]
    }
   ],
   "source": [
    "# Compile and fit the model\n",
    "drop_model.compile(loss='categorical_crossentropy', \n",
    "              optimizer='adam',\n",
    "              metrics=['accuracy'])\n",
    "drop_hist = drop_model.fit(\n",
    "    x_train, y_train, epochs=10, verbose=1, validation_data=(x_val, y_val))"
   ]
  },
  {
   "cell_type": "code",
   "execution_count": 38,
   "id": "9dd26e18",
   "metadata": {},
   "outputs": [
    {
     "name": "stdout",
     "output_type": "stream",
     "text": [
      "Training Accuracy: 0.9665\n",
      "Training Accuracy: 0.9551\n"
     ]
    }
   ],
   "source": [
    "# Print the metrics    \n",
    "loss,accuracy = drop_model.evaluate(x_train,y_train,verbose=False)\n",
    "print(\"Training Accuracy: {:.4f}\".format(accuracy))\n",
    "loss,accuracy = drop_model.evaluate(x_val, y_val, verbose=False)\n",
    "print(\"Training Accuracy: {:.4f}\".format(accuracy))"
   ]
  },
  {
   "cell_type": "markdown",
   "id": "8ae370dc",
   "metadata": {},
   "source": [
    "The dropout model had about 1% less performance than the base MLP model"
   ]
  },
  {
   "cell_type": "code",
   "execution_count": 39,
   "id": "79cea97f",
   "metadata": {},
   "outputs": [
    {
     "name": "stdout",
     "output_type": "stream",
     "text": [
      "(31500, 784) (31500, 10)\n",
      "(10500, 784) (10500, 10)\n"
     ]
    }
   ],
   "source": [
    "# Split the normalized data\n",
    "x_train, x_val, y_train, y_val = train_test_split(x_norm,y,random_state=69)\n",
    "print(x_train.shape, y_train.shape)\n",
    "print(x_val.shape, y_val.shape)"
   ]
  },
  {
   "cell_type": "code",
   "execution_count": 40,
   "id": "11774ac1",
   "metadata": {},
   "outputs": [
    {
     "name": "stdout",
     "output_type": "stream",
     "text": [
      "Model: \"sequential_1\"\n",
      "_________________________________________________________________\n",
      " Layer (type)                Output Shape              Param #   \n",
      "=================================================================\n",
      " dense_3 (Dense)             (None, 512)               401920    \n",
      "                                                                 \n",
      " dense_4 (Dense)             (None, 512)               262656    \n",
      "                                                                 \n",
      " dense_5 (Dense)             (None, 10)                5130      \n",
      "                                                                 \n",
      "=================================================================\n",
      "Total params: 669,706\n",
      "Trainable params: 669,706\n",
      "Non-trainable params: 0\n",
      "_________________________________________________________________\n"
     ]
    }
   ],
   "source": [
    "# Create a model using the normalized data\n",
    "norm_base_model = base_mlp()\n",
    "norm_base_model.summary()"
   ]
  },
  {
   "cell_type": "code",
   "execution_count": 41,
   "id": "f20777ba",
   "metadata": {},
   "outputs": [
    {
     "name": "stdout",
     "output_type": "stream",
     "text": [
      "Epoch 1/10\n",
      "985/985 [==============================] - 5s 4ms/step - loss: 0.2380 - accuracy: 0.9275 - val_loss: 0.1377 - val_accuracy: 0.9539\n",
      "Epoch 2/10\n",
      "985/985 [==============================] - 4s 4ms/step - loss: 0.0967 - accuracy: 0.9696 - val_loss: 0.1360 - val_accuracy: 0.9577\n",
      "Epoch 3/10\n",
      "985/985 [==============================] - 4s 4ms/step - loss: 0.0649 - accuracy: 0.9797 - val_loss: 0.1383 - val_accuracy: 0.9603\n",
      "Epoch 4/10\n",
      "985/985 [==============================] - 4s 4ms/step - loss: 0.0446 - accuracy: 0.9847 - val_loss: 0.1128 - val_accuracy: 0.9689\n",
      "Epoch 5/10\n",
      "985/985 [==============================] - 4s 4ms/step - loss: 0.0391 - accuracy: 0.9872 - val_loss: 0.1243 - val_accuracy: 0.9685\n",
      "Epoch 6/10\n",
      "985/985 [==============================] - 4s 4ms/step - loss: 0.0275 - accuracy: 0.9911 - val_loss: 0.1287 - val_accuracy: 0.9711\n",
      "Epoch 7/10\n",
      "985/985 [==============================] - 4s 4ms/step - loss: 0.0285 - accuracy: 0.9911 - val_loss: 0.1244 - val_accuracy: 0.9724\n",
      "Epoch 8/10\n",
      "985/985 [==============================] - 4s 4ms/step - loss: 0.0220 - accuracy: 0.9927 - val_loss: 0.1348 - val_accuracy: 0.9739\n",
      "Epoch 9/10\n",
      "985/985 [==============================] - 4s 4ms/step - loss: 0.0237 - accuracy: 0.9923 - val_loss: 0.1205 - val_accuracy: 0.9767\n",
      "Epoch 10/10\n",
      "985/985 [==============================] - 4s 4ms/step - loss: 0.0219 - accuracy: 0.9935 - val_loss: 0.1240 - val_accuracy: 0.9737\n"
     ]
    }
   ],
   "source": [
    "# Compile and fit the model\n",
    "norm_base_model.compile(loss='categorical_crossentropy', \n",
    "              optimizer='adam',\n",
    "              metrics=['accuracy'])\n",
    "norm_base_hist = norm_base_model.fit(\n",
    "    x_train, y_train, epochs=10, verbose=1, validation_data=(x_val, y_val))"
   ]
  },
  {
   "cell_type": "code",
   "execution_count": 42,
   "id": "58407eb6",
   "metadata": {},
   "outputs": [
    {
     "name": "stdout",
     "output_type": "stream",
     "text": [
      "Training Accuracy: 0.9950\n",
      "Training Accuracy: 0.9737\n"
     ]
    }
   ],
   "source": [
    "# Print the metrics    \n",
    "loss,accuracy = norm_base_model.evaluate(x_train,y_train,verbose=False)\n",
    "print(\"Training Accuracy: {:.4f}\".format(accuracy))\n",
    "loss,accuracy = norm_base_model.evaluate(x_val, y_val, verbose=False)\n",
    "print(\"Training Accuracy: {:.4f}\".format(accuracy))"
   ]
  },
  {
   "cell_type": "code",
   "execution_count": 43,
   "id": "82e8cfac",
   "metadata": {},
   "outputs": [],
   "source": [
    "clear_session()"
   ]
  },
  {
   "cell_type": "code",
   "execution_count": 44,
   "id": "dfc3d939",
   "metadata": {},
   "outputs": [
    {
     "name": "stdout",
     "output_type": "stream",
     "text": [
      "Model: \"sequential\"\n",
      "_________________________________________________________________\n",
      " Layer (type)                Output Shape              Param #   \n",
      "=================================================================\n",
      " dense (Dense)               (None, 512)               401920    \n",
      "                                                                 \n",
      " dropout (Dropout)           (None, 512)               0         \n",
      "                                                                 \n",
      " dense_1 (Dense)             (None, 512)               262656    \n",
      "                                                                 \n",
      " dropout_1 (Dropout)         (None, 512)               0         \n",
      "                                                                 \n",
      " dense_2 (Dense)             (None, 10)                5130      \n",
      "                                                                 \n",
      "=================================================================\n",
      "Total params: 669,706\n",
      "Trainable params: 669,706\n",
      "Non-trainable params: 0\n",
      "_________________________________________________________________\n"
     ]
    }
   ],
   "source": [
    "norm_drop_model = drop_mlp()\n",
    "norm_drop_model.summary()"
   ]
  },
  {
   "cell_type": "code",
   "execution_count": 45,
   "id": "8740bbc6",
   "metadata": {},
   "outputs": [
    {
     "name": "stdout",
     "output_type": "stream",
     "text": [
      "Epoch 1/10\n",
      "985/985 [==============================] - 5s 5ms/step - loss: 0.2633 - accuracy: 0.9203 - val_loss: 0.1286 - val_accuracy: 0.9601\n",
      "Epoch 2/10\n",
      "985/985 [==============================] - 5s 5ms/step - loss: 0.1165 - accuracy: 0.9632 - val_loss: 0.1437 - val_accuracy: 0.9556\n",
      "Epoch 3/10\n",
      "985/985 [==============================] - 5s 5ms/step - loss: 0.0843 - accuracy: 0.9734 - val_loss: 0.1163 - val_accuracy: 0.9652\n",
      "Epoch 4/10\n",
      "985/985 [==============================] - 5s 5ms/step - loss: 0.0664 - accuracy: 0.9791 - val_loss: 0.1038 - val_accuracy: 0.9714\n",
      "Epoch 5/10\n",
      "985/985 [==============================] - 5s 5ms/step - loss: 0.0569 - accuracy: 0.9819 - val_loss: 0.0892 - val_accuracy: 0.9750\n",
      "Epoch 6/10\n",
      "985/985 [==============================] - 5s 5ms/step - loss: 0.0470 - accuracy: 0.9846 - val_loss: 0.0990 - val_accuracy: 0.9739\n",
      "Epoch 7/10\n",
      "985/985 [==============================] - 5s 5ms/step - loss: 0.0422 - accuracy: 0.9865 - val_loss: 0.1003 - val_accuracy: 0.9740\n",
      "Epoch 8/10\n",
      "985/985 [==============================] - 5s 5ms/step - loss: 0.0383 - accuracy: 0.9882 - val_loss: 0.1047 - val_accuracy: 0.9745\n",
      "Epoch 9/10\n",
      "985/985 [==============================] - 5s 5ms/step - loss: 0.0372 - accuracy: 0.9884 - val_loss: 0.1206 - val_accuracy: 0.9732\n",
      "Epoch 10/10\n",
      "985/985 [==============================] - 5s 5ms/step - loss: 0.0324 - accuracy: 0.9896 - val_loss: 0.1155 - val_accuracy: 0.9769\n"
     ]
    }
   ],
   "source": [
    "# Compile and fit the model\n",
    "norm_drop_model.compile(loss='categorical_crossentropy', \n",
    "              optimizer='adam',\n",
    "              metrics=['accuracy'])\n",
    "norm_drop_hist = norm_drop_model.fit(\n",
    "    x_train, y_train, epochs=10, verbose=1, validation_data=(x_val, y_val))"
   ]
  },
  {
   "cell_type": "code",
   "execution_count": 46,
   "id": "6a893928",
   "metadata": {},
   "outputs": [
    {
     "name": "stdout",
     "output_type": "stream",
     "text": [
      "Training Accuracy: 0.9942\n",
      "Training Accuracy: 0.9769\n"
     ]
    }
   ],
   "source": [
    "# Print the metrics    \n",
    "loss,accuracy = norm_drop_model.evaluate(x_train,y_train,verbose=False)\n",
    "print(\"Training Accuracy: {:.4f}\".format(accuracy))\n",
    "loss,accuracy = norm_drop_model.evaluate(x_val, y_val, verbose=False)\n",
    "print(\"Training Accuracy: {:.4f}\".format(accuracy))"
   ]
  },
  {
   "cell_type": "markdown",
   "id": "dd893331",
   "metadata": {},
   "source": [
    "When the data is normalized, the model with a dropout layer performs marginally better than the base model. Regardless, normalizing the data increases performance by 1-2%"
   ]
  },
  {
   "cell_type": "code",
   "execution_count": 47,
   "id": "ab787458",
   "metadata": {},
   "outputs": [],
   "source": [
    "# Save the best models\n",
    "get_preds(base_model,test,'submissions//digits_base_mlp.csv')\n",
    "get_preds(norm_drop_model,test_norm,'submissions//digits_norm_drop_mlp.csv')"
   ]
  },
  {
   "cell_type": "code",
   "execution_count": 48,
   "id": "2809bc5a",
   "metadata": {},
   "outputs": [],
   "source": [
    "clear_session()"
   ]
  }
 ],
 "metadata": {
  "kernelspec": {
   "display_name": "Python 3 (ipykernel)",
   "language": "python",
   "name": "python3"
  },
  "language_info": {
   "codemirror_mode": {
    "name": "ipython",
    "version": 3
   },
   "file_extension": ".py",
   "mimetype": "text/x-python",
   "name": "python",
   "nbconvert_exporter": "python",
   "pygments_lexer": "ipython3",
   "version": "3.9.10"
  }
 },
 "nbformat": 4,
 "nbformat_minor": 5
}
